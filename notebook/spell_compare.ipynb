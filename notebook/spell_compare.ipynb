{
 "cells": [
  {
   "cell_type": "code",
   "execution_count": 2,
   "id": "695bda92-5722-4b58-91a8-4063f78df3bc",
   "metadata": {},
   "outputs": [],
   "source": [
    "from pprint import pprint\n",
    "import sys\n",
    "sys.path.append('../')\n",
    "\n",
    "from pycrfsuite_spacing import TemplateGenerator\n",
    "from pycrfsuite_spacing import CharacterFeatureTransformer\n",
    "from pycrfsuite_spacing import sent_to_chartags\n",
    "from pycrfsuite_spacing import sent_to_xy\n"
   ]
  },
  {
   "cell_type": "code",
   "execution_count": 25,
   "id": "bf9da27d-2bbf-401d-a1da-c02449b71ac0",
   "metadata": {},
   "outputs": [
    {
     "name": "stdout",
     "output_type": "stream",
     "text": [
      "Requirement already satisfied: pycrfsuite_spacing in /opt/conda/lib/python3.8/site-packages (1.0.2)\n",
      "Requirement already satisfied: python-crfsuite>=0.9.2 in /opt/conda/lib/python3.8/site-packages (from pycrfsuite_spacing) (0.9.8)\n",
      "\u001b[33mWARNING: Running pip as the 'root' user can result in broken permissions and conflicting behaviour with the system package manager. It is recommended to use a virtual environment instead: https://pip.pypa.io/warnings/venv\u001b[0m\u001b[33m\n",
      "\u001b[0mCollecting git+https://github.com/haven-jeon/PyKoSpacing.git\n",
      "  Cloning https://github.com/haven-jeon/PyKoSpacing.git to /tmp/pip-req-build-2q4ac_l1\n",
      "  Running command git clone --filter=blob:none --quiet https://github.com/haven-jeon/PyKoSpacing.git /tmp/pip-req-build-2q4ac_l1\n",
      "  Resolved https://github.com/haven-jeon/PyKoSpacing.git to commit fc2eb9f7837c9f4d256560a47437f4c11decb934\n",
      "  Preparing metadata (setup.py) ... \u001b[?25ldone\n",
      "\u001b[?25hRequirement already satisfied: tensorflow==2.9.3 in /opt/conda/lib/python3.8/site-packages (from pykospacing==0.5) (2.9.3)\n",
      "Requirement already satisfied: h5py==3.1.0 in /opt/conda/lib/python3.8/site-packages (from pykospacing==0.5) (3.1.0)\n",
      "Collecting argparse>=1.4.0\n",
      "  Using cached argparse-1.4.0-py2.py3-none-any.whl (23 kB)\n",
      "Requirement already satisfied: numpy>=1.17.5 in /opt/conda/lib/python3.8/site-packages (from h5py==3.1.0->pykospacing==0.5) (1.24.1)\n",
      "Requirement already satisfied: gast<=0.4.0,>=0.2.1 in /opt/conda/lib/python3.8/site-packages (from tensorflow==2.9.3->pykospacing==0.5) (0.4.0)\n",
      "Requirement already satisfied: flatbuffers<2,>=1.12 in /opt/conda/lib/python3.8/site-packages (from tensorflow==2.9.3->pykospacing==0.5) (1.12)\n",
      "Requirement already satisfied: grpcio<2.0,>=1.24.3 in /opt/conda/lib/python3.8/site-packages (from tensorflow==2.9.3->pykospacing==0.5) (1.51.1)\n",
      "Requirement already satisfied: keras<2.10.0,>=2.9.0rc0 in /opt/conda/lib/python3.8/site-packages (from tensorflow==2.9.3->pykospacing==0.5) (2.9.0)\n",
      "Requirement already satisfied: typing-extensions>=3.6.6 in /opt/conda/lib/python3.8/site-packages (from tensorflow==2.9.3->pykospacing==0.5) (4.4.0)\n",
      "Requirement already satisfied: libclang>=13.0.0 in /opt/conda/lib/python3.8/site-packages (from tensorflow==2.9.3->pykospacing==0.5) (15.0.6.1)\n",
      "Requirement already satisfied: tensorflow-io-gcs-filesystem>=0.23.1 in /opt/conda/lib/python3.8/site-packages (from tensorflow==2.9.3->pykospacing==0.5) (0.30.0)\n",
      "Requirement already satisfied: setuptools in /opt/conda/lib/python3.8/site-packages (from tensorflow==2.9.3->pykospacing==0.5) (67.0.0)\n",
      "Requirement already satisfied: packaging in /opt/conda/lib/python3.8/site-packages (from tensorflow==2.9.3->pykospacing==0.5) (23.0)\n",
      "Requirement already satisfied: termcolor>=1.1.0 in /opt/conda/lib/python3.8/site-packages (from tensorflow==2.9.3->pykospacing==0.5) (2.2.0)\n",
      "Requirement already satisfied: opt-einsum>=2.3.2 in /opt/conda/lib/python3.8/site-packages (from tensorflow==2.9.3->pykospacing==0.5) (3.3.0)\n",
      "Requirement already satisfied: tensorboard<2.10,>=2.9 in /opt/conda/lib/python3.8/site-packages (from tensorflow==2.9.3->pykospacing==0.5) (2.9.1)\n",
      "Requirement already satisfied: absl-py>=1.0.0 in /opt/conda/lib/python3.8/site-packages (from tensorflow==2.9.3->pykospacing==0.5) (1.4.0)\n",
      "Requirement already satisfied: astunparse>=1.6.0 in /opt/conda/lib/python3.8/site-packages (from tensorflow==2.9.3->pykospacing==0.5) (1.6.3)\n",
      "Requirement already satisfied: google-pasta>=0.1.1 in /opt/conda/lib/python3.8/site-packages (from tensorflow==2.9.3->pykospacing==0.5) (0.2.0)\n",
      "Requirement already satisfied: tensorflow-estimator<2.10.0,>=2.9.0rc0 in /opt/conda/lib/python3.8/site-packages (from tensorflow==2.9.3->pykospacing==0.5) (2.9.0)\n",
      "Requirement already satisfied: protobuf<3.20,>=3.9.2 in /opt/conda/lib/python3.8/site-packages (from tensorflow==2.9.3->pykospacing==0.5) (3.19.6)\n",
      "Requirement already satisfied: wrapt>=1.11.0 in /opt/conda/lib/python3.8/site-packages (from tensorflow==2.9.3->pykospacing==0.5) (1.14.1)\n",
      "Requirement already satisfied: six>=1.12.0 in /opt/conda/lib/python3.8/site-packages (from tensorflow==2.9.3->pykospacing==0.5) (1.16.0)\n",
      "Requirement already satisfied: keras-preprocessing>=1.1.1 in /opt/conda/lib/python3.8/site-packages (from tensorflow==2.9.3->pykospacing==0.5) (1.1.2)\n",
      "Requirement already satisfied: wheel<1.0,>=0.23.0 in /opt/conda/lib/python3.8/site-packages (from astunparse>=1.6.0->tensorflow==2.9.3->pykospacing==0.5) (0.38.4)\n",
      "Requirement already satisfied: google-auth-oauthlib<0.5,>=0.4.1 in /opt/conda/lib/python3.8/site-packages (from tensorboard<2.10,>=2.9->tensorflow==2.9.3->pykospacing==0.5) (0.4.6)\n",
      "Requirement already satisfied: tensorboard-data-server<0.7.0,>=0.6.0 in /opt/conda/lib/python3.8/site-packages (from tensorboard<2.10,>=2.9->tensorflow==2.9.3->pykospacing==0.5) (0.6.1)\n",
      "Requirement already satisfied: requests<3,>=2.21.0 in /opt/conda/lib/python3.8/site-packages (from tensorboard<2.10,>=2.9->tensorflow==2.9.3->pykospacing==0.5) (2.27.1)\n",
      "Requirement already satisfied: tensorboard-plugin-wit>=1.6.0 in /opt/conda/lib/python3.8/site-packages (from tensorboard<2.10,>=2.9->tensorflow==2.9.3->pykospacing==0.5) (1.8.1)\n",
      "Requirement already satisfied: google-auth<3,>=1.6.3 in /opt/conda/lib/python3.8/site-packages (from tensorboard<2.10,>=2.9->tensorflow==2.9.3->pykospacing==0.5) (2.11.0)\n",
      "Requirement already satisfied: markdown>=2.6.8 in /opt/conda/lib/python3.8/site-packages (from tensorboard<2.10,>=2.9->tensorflow==2.9.3->pykospacing==0.5) (3.4.1)\n",
      "Requirement already satisfied: werkzeug>=1.0.1 in /opt/conda/lib/python3.8/site-packages (from tensorboard<2.10,>=2.9->tensorflow==2.9.3->pykospacing==0.5) (2.2.2)\n",
      "Requirement already satisfied: rsa<5,>=3.1.4 in /opt/conda/lib/python3.8/site-packages (from google-auth<3,>=1.6.3->tensorboard<2.10,>=2.9->tensorflow==2.9.3->pykospacing==0.5) (4.9)\n",
      "Requirement already satisfied: cachetools<6.0,>=2.0.0 in /opt/conda/lib/python3.8/site-packages (from google-auth<3,>=1.6.3->tensorboard<2.10,>=2.9->tensorflow==2.9.3->pykospacing==0.5) (5.3.0)\n",
      "Requirement already satisfied: pyasn1-modules>=0.2.1 in /opt/conda/lib/python3.8/site-packages (from google-auth<3,>=1.6.3->tensorboard<2.10,>=2.9->tensorflow==2.9.3->pykospacing==0.5) (0.2.8)\n",
      "Requirement already satisfied: requests-oauthlib>=0.7.0 in /opt/conda/lib/python3.8/site-packages (from google-auth-oauthlib<0.5,>=0.4.1->tensorboard<2.10,>=2.9->tensorflow==2.9.3->pykospacing==0.5) (1.3.1)\n",
      "Requirement already satisfied: importlib-metadata>=4.4 in /opt/conda/lib/python3.8/site-packages (from markdown>=2.6.8->tensorboard<2.10,>=2.9->tensorflow==2.9.3->pykospacing==0.5) (4.13.0)\n",
      "Requirement already satisfied: idna<4,>=2.5 in /opt/conda/lib/python3.8/site-packages (from requests<3,>=2.21.0->tensorboard<2.10,>=2.9->tensorflow==2.9.3->pykospacing==0.5) (3.4)\n",
      "Requirement already satisfied: urllib3<1.27,>=1.21.1 in /opt/conda/lib/python3.8/site-packages (from requests<3,>=2.21.0->tensorboard<2.10,>=2.9->tensorflow==2.9.3->pykospacing==0.5) (1.26.14)\n",
      "Requirement already satisfied: certifi>=2017.4.17 in /opt/conda/lib/python3.8/site-packages (from requests<3,>=2.21.0->tensorboard<2.10,>=2.9->tensorflow==2.9.3->pykospacing==0.5) (2022.12.7)\n",
      "Requirement already satisfied: charset-normalizer~=2.0.0 in /opt/conda/lib/python3.8/site-packages (from requests<3,>=2.21.0->tensorboard<2.10,>=2.9->tensorflow==2.9.3->pykospacing==0.5) (2.0.12)\n",
      "Requirement already satisfied: MarkupSafe>=2.1.1 in /opt/conda/lib/python3.8/site-packages (from werkzeug>=1.0.1->tensorboard<2.10,>=2.9->tensorflow==2.9.3->pykospacing==0.5) (2.1.2)\n",
      "Requirement already satisfied: zipp>=0.5 in /opt/conda/lib/python3.8/site-packages (from importlib-metadata>=4.4->markdown>=2.6.8->tensorboard<2.10,>=2.9->tensorflow==2.9.3->pykospacing==0.5) (3.11.0)\n",
      "Requirement already satisfied: pyasn1<0.5.0,>=0.4.6 in /opt/conda/lib/python3.8/site-packages (from pyasn1-modules>=0.2.1->google-auth<3,>=1.6.3->tensorboard<2.10,>=2.9->tensorflow==2.9.3->pykospacing==0.5) (0.4.8)\n",
      "Requirement already satisfied: oauthlib>=3.0.0 in /opt/conda/lib/python3.8/site-packages (from requests-oauthlib>=0.7.0->google-auth-oauthlib<0.5,>=0.4.1->tensorboard<2.10,>=2.9->tensorflow==2.9.3->pykospacing==0.5) (3.2.2)\n",
      "Installing collected packages: argparse\n",
      "Successfully installed argparse-1.4.0\n",
      "\u001b[33mWARNING: Running pip as the 'root' user can result in broken permissions and conflicting behaviour with the system package manager. It is recommended to use a virtual environment instead: https://pip.pypa.io/warnings/venv\u001b[0m\u001b[33m\n",
      "\u001b[0mCollecting git+https://github.com/ssut/py-hanspell.git\n",
      "  Cloning https://github.com/ssut/py-hanspell.git to /tmp/pip-req-build-h7tz34tu\n",
      "  Running command git clone --filter=blob:none --quiet https://github.com/ssut/py-hanspell.git /tmp/pip-req-build-h7tz34tu\n",
      "  Resolved https://github.com/ssut/py-hanspell.git to commit 8e993cf46f97f9d665c15633a0fc78ac1b727713\n",
      "  Preparing metadata (setup.py) ... \u001b[?25ldone\n",
      "\u001b[?25hRequirement already satisfied: requests in /opt/conda/lib/python3.8/site-packages (from py-hanspell==1.1) (2.27.1)\n",
      "Requirement already satisfied: idna<4,>=2.5 in /opt/conda/lib/python3.8/site-packages (from requests->py-hanspell==1.1) (3.4)\n",
      "Requirement already satisfied: urllib3<1.27,>=1.21.1 in /opt/conda/lib/python3.8/site-packages (from requests->py-hanspell==1.1) (1.26.14)\n",
      "Requirement already satisfied: charset-normalizer~=2.0.0 in /opt/conda/lib/python3.8/site-packages (from requests->py-hanspell==1.1) (2.0.12)\n",
      "Requirement already satisfied: certifi>=2017.4.17 in /opt/conda/lib/python3.8/site-packages (from requests->py-hanspell==1.1) (2022.12.7)\n",
      "\u001b[33mWARNING: Running pip as the 'root' user can result in broken permissions and conflicting behaviour with the system package manager. It is recommended to use a virtual environment instead: https://pip.pypa.io/warnings/venv\u001b[0m\u001b[33m\n",
      "\u001b[0m"
     ]
    }
   ],
   "source": [
    "! pip install pycrfsuite_spacing\n",
    "! pip install git+https://github.com/haven-jeon/PyKoSpacing.git\n",
    "! pip install git+https://github.com/ssut/py-hanspell.git"
   ]
  },
  {
   "cell_type": "code",
   "execution_count": 3,
   "id": "9f37ccf8-b83b-4e7d-b309-392ad4759d7c",
   "metadata": {},
   "outputs": [
    {
     "name": "stdout",
     "output_type": "stream",
     "text": [
      "['합친시트.csv']\n"
     ]
    }
   ],
   "source": [
    "import pandas as pd\n",
    "import glob\n",
    "import os\n",
    "\n",
    "files = os.path.join(\"*.csv\")\n",
    "files_list = glob.glob(files)\n",
    "\n",
    "print(files_list)\n",
    "\n",
    "df = pd.concat(map(pd.read_csv, files_list), ignore_index = True)\n",
    "df.reset_index()\n",
    "del df['Unnamed: 0']\n",
    "del df['Unnamed: 0.1']"
   ]
  },
  {
   "cell_type": "code",
   "execution_count": 4,
   "id": "87caee21-8b07-4ccf-a023-e20200fae906",
   "metadata": {},
   "outputs": [
    {
     "data": {
      "text/html": [
       "<div>\n",
       "<style scoped>\n",
       "    .dataframe tbody tr th:only-of-type {\n",
       "        vertical-align: middle;\n",
       "    }\n",
       "\n",
       "    .dataframe tbody tr th {\n",
       "        vertical-align: top;\n",
       "    }\n",
       "\n",
       "    .dataframe thead th {\n",
       "        text-align: right;\n",
       "    }\n",
       "</style>\n",
       "<table border=\"1\" class=\"dataframe\">\n",
       "  <thead>\n",
       "    <tr style=\"text-align: right;\">\n",
       "      <th></th>\n",
       "      <th>Q</th>\n",
       "      <th>A</th>\n",
       "    </tr>\n",
       "  </thead>\n",
       "  <tbody>\n",
       "    <tr>\n",
       "      <th>0</th>\n",
       "      <td>이름도 넘 대박임 김석진 진</td>\n",
       "      <td>진라면에 진김밥 딱 이겠어요!! 침샘 고임 ㅎ</td>\n",
       "    </tr>\n",
       "    <tr>\n",
       "      <th>1</th>\n",
       "      <td>이름도 넘 대박임 김석진 진</td>\n",
       "      <td>잘 하고 있어 너</td>\n",
       "    </tr>\n",
       "    <tr>\n",
       "      <th>2</th>\n",
       "      <td>우와~ 이뻐요 이뻐! &lt;account&gt;님 덕분에 눈호강 하고 갑니다~!! 😍</td>\n",
       "      <td>이쁘죠🤩 이뻐서 자꾸 보게 되네요😍 행복한 하루 보내세요🙆‍♀️</td>\n",
       "    </tr>\n",
       "    <tr>\n",
       "      <th>3</th>\n",
       "      <td>디애스트로넛은 기획에서부터 완성까지 김석진의 재능과 수고가 고스란히 담겨있는 작품이...</td>\n",
       "      <td>말 그대로 무에서 유를 창조 했어요 ㅎㅅ는 솔로 내게할 계획조차 없었는데 본업에 진...</td>\n",
       "    </tr>\n",
       "    <tr>\n",
       "      <th>4</th>\n",
       "      <td>물건너 이곳에서 앓는 소리 들시나요~~? 😭</td>\n",
       "      <td>네~ 끙끙 소리나요^^</td>\n",
       "    </tr>\n",
       "    <tr>\n",
       "      <th>...</th>\n",
       "      <td>...</td>\n",
       "      <td>...</td>\n",
       "    </tr>\n",
       "    <tr>\n",
       "      <th>16665</th>\n",
       "      <td>석지나 진짜 멋져 어디서나 솔선수범 하는 울 &lt;account&gt;님❤ 그래도 너무 힘들...</td>\n",
       "      <td>진나잇 &lt;account&gt;님 방가방가</td>\n",
       "    </tr>\n",
       "    <tr>\n",
       "      <th>16666</th>\n",
       "      <td>방탄곡 중에 유독 석진이가 오롯이 혼자 불러줬으면 하는 곡이 'Butterfly' ...</td>\n",
       "      <td>저 입덕초기에 이 곡 제 스탈이라 유독 좋아했는데 파트가 적어서 슬펐던... (입덕...</td>\n",
       "    </tr>\n",
       "    <tr>\n",
       "      <th>16667</th>\n",
       "      <td>지민경 (mk3244 &lt;account&gt;님 방탄소년단 솔로 활동 시작후 가장 높은 순...</td>\n",
       "      <td>지민경 (mk3244 &lt;account&gt;님 방탄소년단 솔로 활동 시작후 가장 높은</td>\n",
       "    </tr>\n",
       "    <tr>\n",
       "      <th>16668</th>\n",
       "      <td>진이 한가지정도는 없을 만도한뎅 넌 어케 욜케 완벽해? 겸손까지 해서 완벽이란것두 ...</td>\n",
       "      <td>&lt;account&gt;님~ 저도 석진이처럼 완벽한 사람은 첨 봅니다~ 😍</td>\n",
       "    </tr>\n",
       "    <tr>\n",
       "      <th>16669</th>\n",
       "      <td>석진아 석지니 입대 맞춰서 적금 2개 든거 하나는 7주 꼬박 넣었다고 우대금리 주드...</td>\n",
       "      <td>오마 저도 그날 두개 넣었어요. 가서 확인 해 봐야 겠네요 😉</td>\n",
       "    </tr>\n",
       "  </tbody>\n",
       "</table>\n",
       "<p>16670 rows × 2 columns</p>\n",
       "</div>"
      ],
      "text/plain": [
       "                                                       Q  \\\n",
       "0                                        이름도 넘 대박임 김석진 진   \n",
       "1                                        이름도 넘 대박임 김석진 진   \n",
       "2             우와~ 이뻐요 이뻐! <account>님 덕분에 눈호강 하고 갑니다~!! 😍   \n",
       "3      디애스트로넛은 기획에서부터 완성까지 김석진의 재능과 수고가 고스란히 담겨있는 작품이...   \n",
       "4                               물건너 이곳에서 앓는 소리 들시나요~~? 😭   \n",
       "...                                                  ...   \n",
       "16665  석지나 진짜 멋져 어디서나 솔선수범 하는 울 <account>님❤ 그래도 너무 힘들...   \n",
       "16666  방탄곡 중에 유독 석진이가 오롯이 혼자 불러줬으면 하는 곡이 'Butterfly' ...   \n",
       "16667  지민경 (mk3244 <account>님 방탄소년단 솔로 활동 시작후 가장 높은 순...   \n",
       "16668  진이 한가지정도는 없을 만도한뎅 넌 어케 욜케 완벽해? 겸손까지 해서 완벽이란것두 ...   \n",
       "16669  석진아 석지니 입대 맞춰서 적금 2개 든거 하나는 7주 꼬박 넣었다고 우대금리 주드...   \n",
       "\n",
       "                                                       A  \n",
       "0                              진라면에 진김밥 딱 이겠어요!! 침샘 고임 ㅎ  \n",
       "1                                              잘 하고 있어 너  \n",
       "2                  이쁘죠🤩 이뻐서 자꾸 보게 되네요😍 행복한 하루 보내세요🙆‍♀️    \n",
       "3      말 그대로 무에서 유를 창조 했어요 ㅎㅅ는 솔로 내게할 계획조차 없었는데 본업에 진...  \n",
       "4                                           네~ 끙끙 소리나요^^  \n",
       "...                                                  ...  \n",
       "16665                               진나잇 <account>님 방가방가   \n",
       "16666  저 입덕초기에 이 곡 제 스탈이라 유독 좋아했는데 파트가 적어서 슬펐던... (입덕...  \n",
       "16667       지민경 (mk3244 <account>님 방탄소년단 솔로 활동 시작후 가장 높은  \n",
       "16668              <account>님~ 저도 석진이처럼 완벽한 사람은 첨 봅니다~ 😍  \n",
       "16669                 오마 저도 그날 두개 넣었어요. 가서 확인 해 봐야 겠네요 😉  \n",
       "\n",
       "[16670 rows x 2 columns]"
      ]
     },
     "execution_count": 4,
     "metadata": {},
     "output_type": "execute_result"
    }
   ],
   "source": [
    "df"
   ]
  },
  {
   "cell_type": "code",
   "execution_count": 5,
   "id": "cc42cd3f-4187-4131-b6fb-3d16d6f69aa3",
   "metadata": {},
   "outputs": [],
   "source": [
    "df.to_csv('Output.txt', sep = ',', index = False)"
   ]
  },
  {
   "cell_type": "code",
   "execution_count": 10,
   "id": "48684d32-8c96-4f0d-8cb8-f4ceab7bc4fc",
   "metadata": {},
   "outputs": [],
   "source": [
    "text_data = open('Output.txt', 'r').readlines()[1:]"
   ]
  },
  {
   "cell_type": "markdown",
   "id": "302cbc7d-38d8-4eb6-900b-260019518672",
   "metadata": {},
   "source": [
    "Pycrfsuite_spacing"
   ]
  },
  {
   "cell_type": "code",
   "execution_count": 12,
   "id": "9c30ae16-3d5b-4cc8-aa5c-56a674d15420",
   "metadata": {},
   "outputs": [],
   "source": [
    "from pprint import pprint\n",
    "import sys\n",
    "sys.path.append('../')\n",
    "\n",
    "from pycrfsuite_spacing import TemplateGenerator\n",
    "from pycrfsuite_spacing import CharacterFeatureTransformer\n",
    "from pycrfsuite_spacing import sent_to_chartags\n",
    "from pycrfsuite_spacing import sent_to_xy"
   ]
  },
  {
   "cell_type": "code",
   "execution_count": 13,
   "id": "1626339f-26d1-406a-8f70-61508a39c9bb",
   "metadata": {},
   "outputs": [
    {
     "name": "stdout",
     "output_type": "stream",
     "text": [
      "이것도너프해보시지\n",
      "['0', '0', '1', '0', '0', '1', '0', '0', '1']\n"
     ]
    }
   ],
   "source": [
    "chars, tags = sent_to_chartags('이것도 너프해 보시지', space='1', nonspace='0')\n",
    "print(chars)\n",
    "print(tags)"
   ]
  },
  {
   "cell_type": "code",
   "execution_count": 14,
   "id": "5dfd4ce6-e43f-4410-9cd0-62f99601e7f5",
   "metadata": {},
   "outputs": [
    {
     "data": {
      "text/plain": [
       "('', [])"
      ]
     },
     "execution_count": 14,
     "metadata": {},
     "output_type": "execute_result"
    }
   ],
   "source": [
    "sent_to_chartags('')"
   ]
  },
  {
   "cell_type": "code",
   "execution_count": 15,
   "id": "004dce4e-538c-4f5f-bdad-c51f77ebdf04",
   "metadata": {},
   "outputs": [
    {
     "data": {
      "text/plain": [
       "[(-2, 0), (-1, 1), (0, 2)]"
      ]
     },
     "execution_count": 15,
     "metadata": {},
     "output_type": "execute_result"
    }
   ],
   "source": [
    "TemplateGenerator(begin=-2, end=2, min_range_length=3,max_range_length=3).tolist()"
   ]
  },
  {
   "cell_type": "code",
   "execution_count": 16,
   "id": "81c34fc6-4ce3-4b1d-b68a-5f26fdd906d0",
   "metadata": {},
   "outputs": [
    {
     "name": "stdout",
     "output_type": "stream",
     "text": [
      "[['X[0,2]=이것도'],\n",
      " ['X[-1,1]=이것도', 'X[0,2]=것도너'],\n",
      " ['X[-2,0]=이것도', 'X[-1,1]=것도너', 'X[0,2]=도너프'],\n",
      " ['X[-2,0]=것도너', 'X[-1,1]=도너프', 'X[0,2]=너프해'],\n",
      " ['X[-2,0]=도너프', 'X[-1,1]=너프해', 'X[0,2]=프해보'],\n",
      " ['X[-2,0]=너프해', 'X[-1,1]=프해보', 'X[0,2]=해보시'],\n",
      " ['X[-2,0]=프해보', 'X[-1,1]=해보시', 'X[0,2]=보시지'],\n",
      " ['X[-2,0]=해보시', 'X[-1,1]=보시지'],\n",
      " ['X[-2,0]=보시지']]\n",
      "['0', '0', '1', '0', '0', '1', '0', '0', '1']\n"
     ]
    }
   ],
   "source": [
    "to_feature = CharacterFeatureTransformer(\n",
    "    TemplateGenerator(begin=-2, \n",
    "    end=2,\n",
    "    min_range_length=3,\n",
    "    max_range_length=3)\n",
    ")\n",
    "\n",
    "x, y = sent_to_xy('이것도 너프해 보시지', to_feature)\n",
    "pprint(x)\n",
    "print(y)"
   ]
  },
  {
   "cell_type": "code",
   "execution_count": 17,
   "id": "effc3f5d-ea60-4080-a621-263f6d77db0d",
   "metadata": {},
   "outputs": [],
   "source": [
    "from pycrfsuite_spacing import PyCRFSuiteSpacing\n",
    "\n",
    "correct = PyCRFSuiteSpacing(\n",
    "    to_feature = to_feature,\n",
    "    feature_minfreq=3, # default = 0\n",
    "    max_iterations=100,\n",
    "    l1_cost=1.0,\n",
    "    l2_cost=1.0\n",
    ")\n",
    "correct.train(text_data, 'demo_model.crfsuite')"
   ]
  },
  {
   "cell_type": "code",
   "execution_count": 18,
   "id": "b8f671b3-6384-4b5e-8157-2183cf751f64",
   "metadata": {},
   "outputs": [],
   "source": [
    "correct.load_tagger('demo_model.crfsuite')"
   ]
  },
  {
   "cell_type": "code",
   "execution_count": 19,
   "id": "320f6cb8-09ca-4959-b678-586bfce196c0",
   "metadata": {},
   "outputs": [
    {
     "data": {
      "text/plain": [
       "'이건 진짜 좋은 영화라라랜드진짜 좋은 영화'"
      ]
     },
     "execution_count": 19,
     "metadata": {},
     "output_type": "execute_result"
    }
   ],
   "source": [
    "correct('이건진짜좋은영화라라랜드진짜좋은영화')"
   ]
  },
  {
   "cell_type": "markdown",
   "id": "acd04c9e-34f5-4880-843b-bbc770d2e518",
   "metadata": {},
   "source": [
    "Pyspacing"
   ]
  },
  {
   "cell_type": "code",
   "execution_count": 28,
   "id": "5a052a61-fca3-43b9-9929-f985a71b7c98",
   "metadata": {},
   "outputs": [
    {
     "name": "stdout",
     "output_type": "stream",
     "text": [
      "이건 진짜 좋은 영화 라라랜드 진짜 좋은 영화\n"
     ]
    }
   ],
   "source": [
    "from pykospacing import Spacing\n",
    "spacing = Spacing()\n",
    "sent = '이건진짜좋은영화라라랜드진짜좋은영화'\n",
    "kospacing_sent = spacing(sent) \n",
    "\n",
    "print(kospacing_sent)"
   ]
  },
  {
   "cell_type": "markdown",
   "id": "d810f52e-675b-4198-8430-16a6dea11f3e",
   "metadata": {},
   "source": [
    "Hanspell"
   ]
  },
  {
   "cell_type": "code",
   "execution_count": 41,
   "id": "9aa3ca5e-f0db-4b8f-a19b-2392c595a59a",
   "metadata": {},
   "outputs": [
    {
     "name": "stdout",
     "output_type": "stream",
     "text": [
      "이건 진짜 좋은 영화 라라랜드 진짜 좋은 영화\n"
     ]
    }
   ],
   "source": [
    "from hanspell import spell_checker\n",
    "\n",
    "#sent = \"맞춤법 틀리면 외 않되? 쓰고싶은대로쓰면돼지 \"\n",
    "sent = '이건진짜좋은영화라라랜드진짜좋은영화'\n",
    "spelled_sent = spell_checker.check(sent)\n",
    "\n",
    "hanspell_sent = spelled_sent.checked\n",
    "print(hanspell_sent)"
   ]
  },
  {
   "cell_type": "markdown",
   "id": "77554385-8525-4748-9ffa-917519cd52e8",
   "metadata": {},
   "source": [
    "라이브러리간 비교"
   ]
  },
  {
   "cell_type": "code",
   "execution_count": 29,
   "id": "2a638028-9bf7-4c73-babe-f52c972ecea2",
   "metadata": {},
   "outputs": [],
   "source": [
    "test_txt = [\"2월 장난 아닐거 같지요?.... (제가 말해짜나요...) 짐니 앨범 티져도 왠지 다음주면 올거 같다능..........(나만의 촉?입니다)\", \"준이가 나보다 눈 좋ㄷ...🥲 저도 그냥 살겠습ㄴㄷ..\", \"제가 사랑하는 착장입니답..\", \"아미와 방탄 절말 대단해얌....\", \"전정국이 보고십따..😢\", \"다했당 아무도 내가 전정국 사랑하는지 모르겠쥐 🤍\", \"이름도 넘 대박임 김석진 진\", \"디올x지민 조합은 무족건 최고였잔니ㅜ,, 이남자가 디올 글로벌 앰버서더로 발탁되었도다\", \"태형이가 추천한 드라마 궁금해서 한 번 볼까했는데 시즌 6까지 있는 거 실화냐ㅋㅋㅋ\", \"아기 콩알이 상큼하고 귀여워서 어떡해 자바머거\", \"으아아ㅏ 너무 예뻐 빨리 가고싶어\", ]"
   ]
  },
  {
   "cell_type": "code",
   "execution_count": 65,
   "id": "ce3aa852-fc8d-4574-81b6-96dcbac84b3a",
   "metadata": {},
   "outputs": [],
   "source": [
    "result = []\n",
    "for txt in test_txt:\n",
    "    dict = {}\n",
    "    dict['original'] = txt\n",
    "    dict['pycrf'] = correct(txt)\n",
    "    dict['pyspace'] = spacing(txt)\n",
    "    dict['hanspell'] = spell_checker.check(txt).checked\n",
    "    result.append(dict)\n",
    "    #result.append([txt, correct(txt), spacing(txt), spell_checker.check(txt).checked])"
   ]
  },
  {
   "cell_type": "code",
   "execution_count": 111,
   "id": "8397a4dd-3387-402c-921f-fb5272b3a85a",
   "metadata": {},
   "outputs": [],
   "source": [
    "test_df = pd.DataFrame(columns=['original', 'pycrf', 'pyspace', 'hanspell'])"
   ]
  },
  {
   "cell_type": "code",
   "execution_count": 112,
   "id": "672a2417-a83e-491f-869a-ab989dfcb1ca",
   "metadata": {},
   "outputs": [],
   "source": [
    "for i in range(len(result)):\n",
    "    test_df.loc[len(test_df)] = (result[i])"
   ]
  },
  {
   "cell_type": "code",
   "execution_count": 113,
   "id": "e72c3877-200d-47ab-8b0a-3329dc1d5588",
   "metadata": {},
   "outputs": [
    {
     "data": {
      "text/html": [
       "<div>\n",
       "<style scoped>\n",
       "    .dataframe tbody tr th:only-of-type {\n",
       "        vertical-align: middle;\n",
       "    }\n",
       "\n",
       "    .dataframe tbody tr th {\n",
       "        vertical-align: top;\n",
       "    }\n",
       "\n",
       "    .dataframe thead th {\n",
       "        text-align: right;\n",
       "    }\n",
       "</style>\n",
       "<table border=\"1\" class=\"dataframe\">\n",
       "  <thead>\n",
       "    <tr style=\"text-align: right;\">\n",
       "      <th></th>\n",
       "      <th>original</th>\n",
       "      <th>pycrf</th>\n",
       "      <th>pyspace</th>\n",
       "      <th>hanspell</th>\n",
       "    </tr>\n",
       "  </thead>\n",
       "  <tbody>\n",
       "    <tr>\n",
       "      <th>0</th>\n",
       "      <td>2월 장난 아닐거 같지요?.... (제가 말해짜나요...) 짐니 앨범 티져도 왠지 ...</td>\n",
       "      <td>2월 장난 아닐거 같지요?.... (제가 말해짜나요...) 짐니 앨범 티져도 왠지 ...</td>\n",
       "      <td>2월 장난 아닐 거 같지요?.... (제가 말해 짜나요...) 짐니 앨범 티져도 왠...</td>\n",
       "      <td>2월 장난 아닐 거 같지요?.... (제가 말해짜나요...) 지니 앨범 티저도 왠지...</td>\n",
       "    </tr>\n",
       "    <tr>\n",
       "      <th>1</th>\n",
       "      <td>준이가 나보다 눈 좋ㄷ...🥲 저도 그냥 살겠습ㄴㄷ..</td>\n",
       "      <td>준이가 나보다 눈 좋ㄷ...🥲 저도 그냥 살겠습ㄴㄷ..</td>\n",
       "      <td>준이가 나보다 눈 좋ㄷ...🥲 저도 그냥 살겠습 ㄴㄷ..</td>\n",
       "      <td>준이가 나보다 눈 좋ㄷ...🥲 저도 그냥 살겠습ㄴㄷ..</td>\n",
       "    </tr>\n",
       "    <tr>\n",
       "      <th>2</th>\n",
       "      <td>제가 사랑하는 착장입니답..</td>\n",
       "      <td>제가 사랑하는 착장입니답..</td>\n",
       "      <td>제가 사랑하는 착장입니답..</td>\n",
       "      <td>제가 사랑하는 착장입니답..</td>\n",
       "    </tr>\n",
       "    <tr>\n",
       "      <th>3</th>\n",
       "      <td>아미와 방탄 절말 대단해얌....</td>\n",
       "      <td>아미와 방탄 절말 대단해얌....</td>\n",
       "      <td>아미와 방탄 절말 대단해얌....</td>\n",
       "      <td>아미와 방탄 절망 대단해 얌....</td>\n",
       "    </tr>\n",
       "    <tr>\n",
       "      <th>4</th>\n",
       "      <td>전정국이 보고십따..😢</td>\n",
       "      <td>전정국이 보고십따..😢</td>\n",
       "      <td>전 정국이 보고 십따..😢</td>\n",
       "      <td>전정국이 보고 싶다..😢</td>\n",
       "    </tr>\n",
       "    <tr>\n",
       "      <th>5</th>\n",
       "      <td>다했당 아무도 내가 전정국 사랑하는지 모르겠쥐 🤍</td>\n",
       "      <td>다했당 아무도 내가 전정국 사랑하는지 모르겠쥐 🤍</td>\n",
       "      <td>다 했당 아무도 내가 전 정국 사랑하는지 모르겠쥐 🤍</td>\n",
       "      <td>다했다 아무도 내가 전정국 사랑하는지 모르겠지 🤍</td>\n",
       "    </tr>\n",
       "    <tr>\n",
       "      <th>6</th>\n",
       "      <td>이름도 넘 대박임 김석진 진</td>\n",
       "      <td>이름도 넘 대박임 김석진 진</td>\n",
       "      <td>이름도 넘 대박 임 김석진 진</td>\n",
       "      <td>이름도 너무 대박임 김석진 진</td>\n",
       "    </tr>\n",
       "    <tr>\n",
       "      <th>7</th>\n",
       "      <td>디올x지민 조합은 무족건 최고였잔니ㅜ,, 이남자가 디올 글로벌 앰버서더로 발탁되었도다</td>\n",
       "      <td>디올x지민 조합은 무족건 최고였잔니ㅜ,, 이남자가 디올 글로벌 앰버서더로 발탁되었도다</td>\n",
       "      <td>디올 x지민 조합은 무족건 최고였잔니ㅜ, , 이 남자가 디올 글로벌 앰버서더로 발탁...</td>\n",
       "      <td>디오르 x 지민 조합은 무조건 최고였잖니ㅜ,, 이 남자가 디오르 글로벌 앰버서더로 ...</td>\n",
       "    </tr>\n",
       "    <tr>\n",
       "      <th>8</th>\n",
       "      <td>태형이가 추천한 드라마 궁금해서 한 번 볼까했는데 시즌 6까지 있는 거 실화냐ㅋㅋㅋ</td>\n",
       "      <td>태형이가 추천한 드라마 궁금해서 한 번 볼까했는데 시즌 6까지 있는 거 실화냐ㅋㅋㅋ</td>\n",
       "      <td>태형이 가 추천한 드라마 궁금해서 한 번 볼까 했는데 시즌 6까지 있는 거 실화냐 ㅋㅋㅋ</td>\n",
       "      <td>태형이가 추천한 드라마 궁금해서 한 번 볼까 했는데 시즌 6까지 있는 거 실화냐ㅋㅋㅋ</td>\n",
       "    </tr>\n",
       "    <tr>\n",
       "      <th>9</th>\n",
       "      <td>아기 콩알이 상큼하고 귀여워서 어떡해 자바머거</td>\n",
       "      <td>아기 콩알이 상큼하고 귀여워서 어떡해 자바머거</td>\n",
       "      <td>아기 콩알이 상큼하고 귀여워서 어 떡해 자 바머거</td>\n",
       "      <td>아기 콩알이 상큼하고 귀여워서 어떡해 자다 머거</td>\n",
       "    </tr>\n",
       "    <tr>\n",
       "      <th>10</th>\n",
       "      <td>으아아ㅏ 너무 예뻐 빨리 가고싶어</td>\n",
       "      <td>으아아ㅏ 너무 예뻐 빨리 가고 싶어</td>\n",
       "      <td>으아 아ㅏ 너무 예뻐 빨리 가고 싶어</td>\n",
       "      <td>으아ᅡ 너무 예뻐 빨리 가고 싶어</td>\n",
       "    </tr>\n",
       "  </tbody>\n",
       "</table>\n",
       "</div>"
      ],
      "text/plain": [
       "                                             original  \\\n",
       "0   2월 장난 아닐거 같지요?.... (제가 말해짜나요...) 짐니 앨범 티져도 왠지 ...   \n",
       "1                      준이가 나보다 눈 좋ㄷ...🥲 저도 그냥 살겠습ㄴㄷ..   \n",
       "2                                     제가 사랑하는 착장입니답..   \n",
       "3                                  아미와 방탄 절말 대단해얌....   \n",
       "4                                        전정국이 보고십따..😢   \n",
       "5                         다했당 아무도 내가 전정국 사랑하는지 모르겠쥐 🤍   \n",
       "6                                     이름도 넘 대박임 김석진 진   \n",
       "7     디올x지민 조합은 무족건 최고였잔니ㅜ,, 이남자가 디올 글로벌 앰버서더로 발탁되었도다   \n",
       "8      태형이가 추천한 드라마 궁금해서 한 번 볼까했는데 시즌 6까지 있는 거 실화냐ㅋㅋㅋ   \n",
       "9                           아기 콩알이 상큼하고 귀여워서 어떡해 자바머거   \n",
       "10                                 으아아ㅏ 너무 예뻐 빨리 가고싶어   \n",
       "\n",
       "                                                pycrf  \\\n",
       "0   2월 장난 아닐거 같지요?.... (제가 말해짜나요...) 짐니 앨범 티져도 왠지 ...   \n",
       "1                      준이가 나보다 눈 좋ㄷ...🥲 저도 그냥 살겠습ㄴㄷ..   \n",
       "2                                     제가 사랑하는 착장입니답..   \n",
       "3                                  아미와 방탄 절말 대단해얌....   \n",
       "4                                        전정국이 보고십따..😢   \n",
       "5                         다했당 아무도 내가 전정국 사랑하는지 모르겠쥐 🤍   \n",
       "6                                     이름도 넘 대박임 김석진 진   \n",
       "7     디올x지민 조합은 무족건 최고였잔니ㅜ,, 이남자가 디올 글로벌 앰버서더로 발탁되었도다   \n",
       "8      태형이가 추천한 드라마 궁금해서 한 번 볼까했는데 시즌 6까지 있는 거 실화냐ㅋㅋㅋ   \n",
       "9                           아기 콩알이 상큼하고 귀여워서 어떡해 자바머거   \n",
       "10                                으아아ㅏ 너무 예뻐 빨리 가고 싶어   \n",
       "\n",
       "                                              pyspace  \\\n",
       "0   2월 장난 아닐 거 같지요?.... (제가 말해 짜나요...) 짐니 앨범 티져도 왠...   \n",
       "1                     준이가 나보다 눈 좋ㄷ...🥲 저도 그냥 살겠습 ㄴㄷ..   \n",
       "2                                     제가 사랑하는 착장입니답..   \n",
       "3                                  아미와 방탄 절말 대단해얌....   \n",
       "4                                      전 정국이 보고 십따..😢   \n",
       "5                       다 했당 아무도 내가 전 정국 사랑하는지 모르겠쥐 🤍   \n",
       "6                                    이름도 넘 대박 임 김석진 진   \n",
       "7   디올 x지민 조합은 무족건 최고였잔니ㅜ, , 이 남자가 디올 글로벌 앰버서더로 발탁...   \n",
       "8   태형이 가 추천한 드라마 궁금해서 한 번 볼까 했는데 시즌 6까지 있는 거 실화냐 ㅋㅋㅋ   \n",
       "9                         아기 콩알이 상큼하고 귀여워서 어 떡해 자 바머거   \n",
       "10                               으아 아ㅏ 너무 예뻐 빨리 가고 싶어   \n",
       "\n",
       "                                             hanspell  \n",
       "0   2월 장난 아닐 거 같지요?.... (제가 말해짜나요...) 지니 앨범 티저도 왠지...  \n",
       "1                      준이가 나보다 눈 좋ㄷ...🥲 저도 그냥 살겠습ㄴㄷ..  \n",
       "2                                     제가 사랑하는 착장입니답..  \n",
       "3                                 아미와 방탄 절망 대단해 얌....  \n",
       "4                                       전정국이 보고 싶다..😢  \n",
       "5                         다했다 아무도 내가 전정국 사랑하는지 모르겠지 🤍  \n",
       "6                                    이름도 너무 대박임 김석진 진  \n",
       "7   디오르 x 지민 조합은 무조건 최고였잖니ㅜ,, 이 남자가 디오르 글로벌 앰버서더로 ...  \n",
       "8     태형이가 추천한 드라마 궁금해서 한 번 볼까 했는데 시즌 6까지 있는 거 실화냐ㅋㅋㅋ  \n",
       "9                          아기 콩알이 상큼하고 귀여워서 어떡해 자다 머거  \n",
       "10                                 으아ᅡ 너무 예뻐 빨리 가고 싶어  "
      ]
     },
     "execution_count": 113,
     "metadata": {},
     "output_type": "execute_result"
    }
   ],
   "source": [
    "test_df"
   ]
  },
  {
   "cell_type": "code",
   "execution_count": null,
   "id": "bab5830c-46cc-4f26-a440-f05c18495b23",
   "metadata": {},
   "outputs": [],
   "source": []
  }
 ],
 "metadata": {
  "kernelspec": {
   "display_name": "Python 3 (ipykernel)",
   "language": "python",
   "name": "python3"
  },
  "language_info": {
   "codemirror_mode": {
    "name": "ipython",
    "version": 3
   },
   "file_extension": ".py",
   "mimetype": "text/x-python",
   "name": "python",
   "nbconvert_exporter": "python",
   "pygments_lexer": "ipython3",
   "version": "3.8.5"
  }
 },
 "nbformat": 4,
 "nbformat_minor": 5
}
